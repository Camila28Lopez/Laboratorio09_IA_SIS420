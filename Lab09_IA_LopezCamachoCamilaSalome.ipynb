{
  "nbformat": 4,
  "nbformat_minor": 0,
  "metadata": {
    "colab": {
      "provenance": [],
      "authorship_tag": "ABX9TyO202tG0aFvOiF9q99MDWXo",
      "include_colab_link": true
    },
    "kernelspec": {
      "name": "python3",
      "display_name": "Python 3"
    },
    "language_info": {
      "name": "python"
    }
  },
  "cells": [
    {
      "cell_type": "markdown",
      "metadata": {
        "id": "view-in-github",
        "colab_type": "text"
      },
      "source": [
        "<a href=\"https://colab.research.google.com/github/Camila28Lopez/Laboratorio09_IA_SIS420/blob/main/Lab09_IA_LopezCamachoCamilaSalome.ipynb\" target=\"_parent\"><img src=\"https://colab.research.google.com/assets/colab-badge.svg\" alt=\"Open In Colab\"/></a>"
      ]
    },
    {
      "cell_type": "code",
      "execution_count": 64,
      "metadata": {
        "id": "Vlg2RgvH4_LT"
      },
      "outputs": [],
      "source": [
        "import os \n",
        "import numpy as np\n",
        "import pandas  as pd\n",
        "from google.colab import drive\n",
        "from matplotlib import pyplot\n",
        "from mpl_toolkits.mplot3d import Axes3D \n",
        "%matplotlib inline"
      ]
    },
    {
      "cell_type": "code",
      "source": [
        "drive.mount(\"/content/drive\")"
      ],
      "metadata": {
        "colab": {
          "base_uri": "https://localhost:8080/"
        },
        "id": "KUHzpOYJ508e",
        "outputId": "fda31f1f-3318-421d-bb0c-6e5c631385e9"
      },
      "execution_count": 65,
      "outputs": [
        {
          "output_type": "stream",
          "name": "stdout",
          "text": [
            "Drive already mounted at /content/drive; to attempt to forcibly remount, call drive.mount(\"/content/drive\", force_remount=True).\n"
          ]
        }
      ]
    },
    {
      "cell_type": "code",
      "source": [
        "data = pd.read_csv('/content/drive/MyDrive/Dataset/data_num.csv')\n",
        "data.head()"
      ],
      "metadata": {
        "colab": {
          "base_uri": "https://localhost:8080/",
          "height": 206
        },
        "id": "HJ4Ikdxk7ARV",
        "outputId": "ff56795a-6a85-4c4a-e613-dc5e619d927d"
      },
      "execution_count": 66,
      "outputs": [
        {
          "output_type": "execute_result",
          "data": {
            "text/plain": [
              "  laptop_ID  Company      Product   TypeName  Inches  \\\n",
              "0         1      1.0  MacBook Pro  Ultrabook    13.3   \n",
              "1         2      1.0  Macbook Air  Ultrabook    13.3   \n",
              "2         3      2.0       250 G6   Notebook    15.6   \n",
              "3         4      1.0  MacBook Pro  Ultrabook    15.4   \n",
              "4         5      1.0  MacBook Pro  Ultrabook    13.3   \n",
              "\n",
              "                     ScreenResolution                         Cpu   Ram  \\\n",
              "0  IPS Panel Retina Display 2560x1600        Intel Core i5 2.3GHz   8.0   \n",
              "1                            1440x900        Intel Core i5 1.8GHz   8.0   \n",
              "2                   Full HD 1920x1080  Intel Core i5 7200U 2.5GHz   8.0   \n",
              "3  IPS Panel Retina Display 2880x1800        Intel Core i7 2.7GHz  16.0   \n",
              "4  IPS Panel Retina Display 2560x1600        Intel Core i5 3.1GHz   8.0   \n",
              "\n",
              "   Memory                           Gpu  OpSys  Weight  Price_euros  \n",
              "0   128.0  Intel Iris Plus Graphics 640  macOS    1.37      1339.69  \n",
              "1   128.0        Intel HD Graphics 6000  macOS    1.34       898.94  \n",
              "2   256.0         Intel HD Graphics 620  No OS    1.86       575.00  \n",
              "3   512.0            AMD Radeon Pro 455  macOS    1.83      2537.45  \n",
              "4   256.0  Intel Iris Plus Graphics 650  macOS    1.37      1803.60  "
            ],
            "text/html": [
              "\n",
              "  <div id=\"df-459cc9b6-51e0-4df9-b4ae-0329ccc6f1b4\">\n",
              "    <div class=\"colab-df-container\">\n",
              "      <div>\n",
              "<style scoped>\n",
              "    .dataframe tbody tr th:only-of-type {\n",
              "        vertical-align: middle;\n",
              "    }\n",
              "\n",
              "    .dataframe tbody tr th {\n",
              "        vertical-align: top;\n",
              "    }\n",
              "\n",
              "    .dataframe thead th {\n",
              "        text-align: right;\n",
              "    }\n",
              "</style>\n",
              "<table border=\"1\" class=\"dataframe\">\n",
              "  <thead>\n",
              "    <tr style=\"text-align: right;\">\n",
              "      <th></th>\n",
              "      <th>laptop_ID</th>\n",
              "      <th>Company</th>\n",
              "      <th>Product</th>\n",
              "      <th>TypeName</th>\n",
              "      <th>Inches</th>\n",
              "      <th>ScreenResolution</th>\n",
              "      <th>Cpu</th>\n",
              "      <th>Ram</th>\n",
              "      <th>Memory</th>\n",
              "      <th>Gpu</th>\n",
              "      <th>OpSys</th>\n",
              "      <th>Weight</th>\n",
              "      <th>Price_euros</th>\n",
              "    </tr>\n",
              "  </thead>\n",
              "  <tbody>\n",
              "    <tr>\n",
              "      <th>0</th>\n",
              "      <td>1</td>\n",
              "      <td>1.0</td>\n",
              "      <td>MacBook Pro</td>\n",
              "      <td>Ultrabook</td>\n",
              "      <td>13.3</td>\n",
              "      <td>IPS Panel Retina Display 2560x1600</td>\n",
              "      <td>Intel Core i5 2.3GHz</td>\n",
              "      <td>8.0</td>\n",
              "      <td>128.0</td>\n",
              "      <td>Intel Iris Plus Graphics 640</td>\n",
              "      <td>macOS</td>\n",
              "      <td>1.37</td>\n",
              "      <td>1339.69</td>\n",
              "    </tr>\n",
              "    <tr>\n",
              "      <th>1</th>\n",
              "      <td>2</td>\n",
              "      <td>1.0</td>\n",
              "      <td>Macbook Air</td>\n",
              "      <td>Ultrabook</td>\n",
              "      <td>13.3</td>\n",
              "      <td>1440x900</td>\n",
              "      <td>Intel Core i5 1.8GHz</td>\n",
              "      <td>8.0</td>\n",
              "      <td>128.0</td>\n",
              "      <td>Intel HD Graphics 6000</td>\n",
              "      <td>macOS</td>\n",
              "      <td>1.34</td>\n",
              "      <td>898.94</td>\n",
              "    </tr>\n",
              "    <tr>\n",
              "      <th>2</th>\n",
              "      <td>3</td>\n",
              "      <td>2.0</td>\n",
              "      <td>250 G6</td>\n",
              "      <td>Notebook</td>\n",
              "      <td>15.6</td>\n",
              "      <td>Full HD 1920x1080</td>\n",
              "      <td>Intel Core i5 7200U 2.5GHz</td>\n",
              "      <td>8.0</td>\n",
              "      <td>256.0</td>\n",
              "      <td>Intel HD Graphics 620</td>\n",
              "      <td>No OS</td>\n",
              "      <td>1.86</td>\n",
              "      <td>575.00</td>\n",
              "    </tr>\n",
              "    <tr>\n",
              "      <th>3</th>\n",
              "      <td>4</td>\n",
              "      <td>1.0</td>\n",
              "      <td>MacBook Pro</td>\n",
              "      <td>Ultrabook</td>\n",
              "      <td>15.4</td>\n",
              "      <td>IPS Panel Retina Display 2880x1800</td>\n",
              "      <td>Intel Core i7 2.7GHz</td>\n",
              "      <td>16.0</td>\n",
              "      <td>512.0</td>\n",
              "      <td>AMD Radeon Pro 455</td>\n",
              "      <td>macOS</td>\n",
              "      <td>1.83</td>\n",
              "      <td>2537.45</td>\n",
              "    </tr>\n",
              "    <tr>\n",
              "      <th>4</th>\n",
              "      <td>5</td>\n",
              "      <td>1.0</td>\n",
              "      <td>MacBook Pro</td>\n",
              "      <td>Ultrabook</td>\n",
              "      <td>13.3</td>\n",
              "      <td>IPS Panel Retina Display 2560x1600</td>\n",
              "      <td>Intel Core i5 3.1GHz</td>\n",
              "      <td>8.0</td>\n",
              "      <td>256.0</td>\n",
              "      <td>Intel Iris Plus Graphics 650</td>\n",
              "      <td>macOS</td>\n",
              "      <td>1.37</td>\n",
              "      <td>1803.60</td>\n",
              "    </tr>\n",
              "  </tbody>\n",
              "</table>\n",
              "</div>\n",
              "      <button class=\"colab-df-convert\" onclick=\"convertToInteractive('df-459cc9b6-51e0-4df9-b4ae-0329ccc6f1b4')\"\n",
              "              title=\"Convert this dataframe to an interactive table.\"\n",
              "              style=\"display:none;\">\n",
              "        \n",
              "  <svg xmlns=\"http://www.w3.org/2000/svg\" height=\"24px\"viewBox=\"0 0 24 24\"\n",
              "       width=\"24px\">\n",
              "    <path d=\"M0 0h24v24H0V0z\" fill=\"none\"/>\n",
              "    <path d=\"M18.56 5.44l.94 2.06.94-2.06 2.06-.94-2.06-.94-.94-2.06-.94 2.06-2.06.94zm-11 1L8.5 8.5l.94-2.06 2.06-.94-2.06-.94L8.5 2.5l-.94 2.06-2.06.94zm10 10l.94 2.06.94-2.06 2.06-.94-2.06-.94-.94-2.06-.94 2.06-2.06.94z\"/><path d=\"M17.41 7.96l-1.37-1.37c-.4-.4-.92-.59-1.43-.59-.52 0-1.04.2-1.43.59L10.3 9.45l-7.72 7.72c-.78.78-.78 2.05 0 2.83L4 21.41c.39.39.9.59 1.41.59.51 0 1.02-.2 1.41-.59l7.78-7.78 2.81-2.81c.8-.78.8-2.07 0-2.86zM5.41 20L4 18.59l7.72-7.72 1.47 1.35L5.41 20z\"/>\n",
              "  </svg>\n",
              "      </button>\n",
              "      \n",
              "  <style>\n",
              "    .colab-df-container {\n",
              "      display:flex;\n",
              "      flex-wrap:wrap;\n",
              "      gap: 12px;\n",
              "    }\n",
              "\n",
              "    .colab-df-convert {\n",
              "      background-color: #E8F0FE;\n",
              "      border: none;\n",
              "      border-radius: 50%;\n",
              "      cursor: pointer;\n",
              "      display: none;\n",
              "      fill: #1967D2;\n",
              "      height: 32px;\n",
              "      padding: 0 0 0 0;\n",
              "      width: 32px;\n",
              "    }\n",
              "\n",
              "    .colab-df-convert:hover {\n",
              "      background-color: #E2EBFA;\n",
              "      box-shadow: 0px 1px 2px rgba(60, 64, 67, 0.3), 0px 1px 3px 1px rgba(60, 64, 67, 0.15);\n",
              "      fill: #174EA6;\n",
              "    }\n",
              "\n",
              "    [theme=dark] .colab-df-convert {\n",
              "      background-color: #3B4455;\n",
              "      fill: #D2E3FC;\n",
              "    }\n",
              "\n",
              "    [theme=dark] .colab-df-convert:hover {\n",
              "      background-color: #434B5C;\n",
              "      box-shadow: 0px 1px 3px 1px rgba(0, 0, 0, 0.15);\n",
              "      filter: drop-shadow(0px 1px 2px rgba(0, 0, 0, 0.3));\n",
              "      fill: #FFFFFF;\n",
              "    }\n",
              "  </style>\n",
              "\n",
              "      <script>\n",
              "        const buttonEl =\n",
              "          document.querySelector('#df-459cc9b6-51e0-4df9-b4ae-0329ccc6f1b4 button.colab-df-convert');\n",
              "        buttonEl.style.display =\n",
              "          google.colab.kernel.accessAllowed ? 'block' : 'none';\n",
              "\n",
              "        async function convertToInteractive(key) {\n",
              "          const element = document.querySelector('#df-459cc9b6-51e0-4df9-b4ae-0329ccc6f1b4');\n",
              "          const dataTable =\n",
              "            await google.colab.kernel.invokeFunction('convertToInteractive',\n",
              "                                                     [key], {});\n",
              "          if (!dataTable) return;\n",
              "\n",
              "          const docLinkHtml = 'Like what you see? Visit the ' +\n",
              "            '<a target=\"_blank\" href=https://colab.research.google.com/notebooks/data_table.ipynb>data table notebook</a>'\n",
              "            + ' to learn more about interactive tables.';\n",
              "          element.innerHTML = '';\n",
              "          dataTable['output_type'] = 'display_data';\n",
              "          await google.colab.output.renderOutput(dataTable, element);\n",
              "          const docLink = document.createElement('div');\n",
              "          docLink.innerHTML = docLinkHtml;\n",
              "          element.appendChild(docLink);\n",
              "        }\n",
              "      </script>\n",
              "    </div>\n",
              "  </div>\n",
              "  "
            ]
          },
          "metadata": {},
          "execution_count": 66
        }
      ]
    },
    {
      "cell_type": "code",
      "source": [
        "data = data.dropna()\n",
        "data.info()"
      ],
      "metadata": {
        "colab": {
          "base_uri": "https://localhost:8080/"
        },
        "id": "9fcDcbhr7Zva",
        "outputId": "abf8a04e-97a5-40df-f28b-a48fea38231c"
      },
      "execution_count": 67,
      "outputs": [
        {
          "output_type": "stream",
          "name": "stdout",
          "text": [
            "<class 'pandas.core.frame.DataFrame'>\n",
            "Int64Index: 48 entries, 0 to 49\n",
            "Data columns (total 13 columns):\n",
            " #   Column            Non-Null Count  Dtype  \n",
            "---  ------            --------------  -----  \n",
            " 0   laptop_ID         48 non-null     object \n",
            " 1   Company           48 non-null     float64\n",
            " 2   Product           48 non-null     object \n",
            " 3   TypeName          48 non-null     object \n",
            " 4   Inches            48 non-null     float64\n",
            " 5   ScreenResolution  48 non-null     object \n",
            " 6   Cpu               48 non-null     object \n",
            " 7   Ram               48 non-null     float64\n",
            " 8   Memory            48 non-null     float64\n",
            " 9   Gpu               48 non-null     object \n",
            " 10  OpSys             48 non-null     object \n",
            " 11  Weight            48 non-null     float64\n",
            " 12  Price_euros       48 non-null     float64\n",
            "dtypes: float64(6), object(7)\n",
            "memory usage: 5.2+ KB\n"
          ]
        }
      ]
    },
    {
      "cell_type": "code",
      "source": [
        "X = data[[ 'Company', 'Inches', 'Ram', 'Memory','Weight']].to_numpy()\n",
        "X"
      ],
      "metadata": {
        "colab": {
          "base_uri": "https://localhost:8080/"
        },
        "id": "G1549gHq7mm7",
        "outputId": "0b7b6c25-ca0b-4578-991b-2caece2ee966"
      },
      "execution_count": 68,
      "outputs": [
        {
          "output_type": "execute_result",
          "data": {
            "text/plain": [
              "array([[1.000e+00, 1.330e+01, 8.000e+00, 1.280e+02, 1.370e+00],\n",
              "       [1.000e+00, 1.330e+01, 8.000e+00, 1.280e+02, 1.340e+00],\n",
              "       [2.000e+00, 1.560e+01, 8.000e+00, 2.560e+02, 1.860e+00],\n",
              "       [1.000e+00, 1.540e+01, 1.600e+01, 5.120e+02, 1.830e+00],\n",
              "       [1.000e+00, 1.330e+01, 8.000e+00, 2.560e+02, 1.370e+00],\n",
              "       [3.000e+00, 1.560e+01, 4.000e+00, 5.000e+02, 2.100e+00],\n",
              "       [1.000e+00, 1.540e+01, 1.600e+01, 2.560e+02, 2.040e+00],\n",
              "       [1.000e+00, 1.330e+01, 8.000e+00, 2.560e+02, 1.340e+00],\n",
              "       [4.000e+00, 1.400e+01, 1.600e+01, 5.120e+02, 1.300e+00],\n",
              "       [3.000e+00, 1.400e+01, 8.000e+00, 2.560e+02, 1.600e+00],\n",
              "       [2.000e+00, 1.560e+01, 4.000e+00, 5.000e+02, 1.860e+00],\n",
              "       [2.000e+00, 1.560e+01, 4.000e+00, 5.000e+02, 1.860e+00],\n",
              "       [1.000e+00, 1.540e+01, 1.600e+01, 2.560e+02, 1.830e+00],\n",
              "       [5.000e+00, 1.560e+01, 4.000e+00, 2.560e+02, 2.200e+00],\n",
              "       [1.000e+00, 1.330e+01, 8.000e+00, 2.560e+02, 1.370e+00],\n",
              "       [5.000e+00, 1.560e+01, 8.000e+00, 2.560e+02, 2.200e+00],\n",
              "       [1.000e+00, 1.540e+01, 1.600e+01, 5.120e+02, 1.830e+00],\n",
              "       [6.000e+00, 1.560e+01, 8.000e+00, 1.000e+03, 2.200e+00],\n",
              "       [5.000e+00, 1.330e+01, 8.000e+00, 1.280e+02, 1.220e+00],\n",
              "       [4.000e+00, 1.160e+01, 2.000e+00, 3.200e+01, 9.800e-01],\n",
              "       [6.000e+00, 1.560e+01, 8.000e+00, 1.128e+03, 2.500e+00],\n",
              "       [2.000e+00, 1.560e+01, 4.000e+00, 5.000e+02, 1.860e+00],\n",
              "       [5.000e+00, 1.330e+01, 8.000e+00, 2.560e+02, 1.620e+00],\n",
              "       [2.000e+00, 1.560e+01, 8.000e+00, 2.560e+02, 1.910e+00],\n",
              "       [5.000e+00, 1.560e+01, 4.000e+00, 1.000e+03, 2.300e+00],\n",
              "       [1.000e+00, 1.330e+01, 8.000e+00, 1.280e+02, 1.350e+00],\n",
              "       [5.000e+00, 1.560e+01, 8.000e+00, 2.560e+02, 2.200e+00],\n",
              "       [5.000e+00, 1.560e+01, 8.000e+00, 5.120e+02, 1.880e+00],\n",
              "       [2.000e+00, 1.730e+01, 8.000e+00, 1.000e+03, 2.500e+00],\n",
              "       [4.000e+00, 1.400e+01, 2.000e+00, 3.200e+01, 1.650e+00],\n",
              "       [2.000e+00, 1.730e+01, 4.000e+00, 5.000e+02, 2.710e+00],\n",
              "       [5.000e+00, 1.330e+01, 1.600e+01, 5.120e+02, 1.200e+00],\n",
              "       [1.000e+00, 1.330e+01, 8.000e+00, 2.560e+02, 1.350e+00],\n",
              "       [6.000e+00, 1.400e+01, 4.000e+00, 6.400e+01, 1.440e+00],\n",
              "       [3.000e+00, 1.560e+01, 4.000e+00, 1.000e+03, 2.100e+00],\n",
              "       [5.000e+00, 1.730e+01, 8.000e+00, 1.128e+03, 2.800e+00],\n",
              "       [2.000e+00, 1.560e+01, 4.000e+00, 1.000e+03, 1.860e+00],\n",
              "       [2.000e+00, 1.560e+01, 8.000e+00, 2.560e+02, 2.100e+00],\n",
              "       [4.000e+00, 1.560e+01, 4.000e+00, 1.000e+03, 2.000e+00],\n",
              "       [5.000e+00, 1.560e+01, 1.600e+01, 1.256e+03, 2.650e+00],\n",
              "       [4.000e+00, 1.560e+01, 8.000e+00, 1.000e+03, 2.300e+00],\n",
              "       [3.000e+00, 1.560e+01, 4.000e+00, 2.560e+02, 2.200e+00],\n",
              "       [5.000e+00, 1.730e+01, 1.200e+01, 1.000e+03, 2.770e+00],\n",
              "       [1.000e+00, 1.330e+01, 8.000e+00, 2.560e+02, 1.370e+00],\n",
              "       [6.000e+00, 1.560e+01, 4.000e+00, 1.280e+02, 2.200e+00],\n",
              "       [4.000e+00, 1.730e+01, 8.000e+00, 1.256e+03, 3.200e+00],\n",
              "       [5.000e+00, 1.560e+01, 4.000e+00, 2.560e+02, 2.300e+00],\n",
              "       [4.000e+00, 1.730e+01, 4.000e+00, 1.000e+03, 2.800e+00]])"
            ]
          },
          "metadata": {},
          "execution_count": 68
        }
      ]
    },
    {
      "cell_type": "code",
      "source": [
        "y = data['Price_euros'].to_numpy()\n",
        "y"
      ],
      "metadata": {
        "colab": {
          "base_uri": "https://localhost:8080/"
        },
        "id": "DGsaUREq9BJS",
        "outputId": "d4a83be0-93c7-4212-e488-85d93f335538"
      },
      "execution_count": 69,
      "outputs": [
        {
          "output_type": "execute_result",
          "data": {
            "text/plain": [
              "array([1339.69,  898.94,  575.  , 2537.45, 1803.6 ,  400.  , 2139.97,\n",
              "       1158.7 , 1495.  ,  770.  ,  393.9 ,  344.99, 2439.97,  498.9 ,\n",
              "       1518.55,  745.  , 2858.  ,  499.  ,  979.  ,  191.9 ,  999.  ,\n",
              "        258.  ,  819.  ,  659.  ,  418.64, 1099.  ,  800.  , 1298.  ,\n",
              "        896.  ,  199.  ,  439.  , 1869.  ,  998.  ,  249.  ,  367.  ,\n",
              "        979.  ,  488.69,  879.  ,  389.  , 1499.  ,  522.99,  682.  ,\n",
              "        999.  , 1419.  ,  369.  , 1299.  ,  639.  ,  466.  ])"
            ]
          },
          "metadata": {},
          "execution_count": 69
        }
      ]
    },
    {
      "cell_type": "code",
      "source": [
        "def  featureNormalize(X):\n",
        "    X_norm = X.copy()\n",
        "    mu = np.zeros(X.shape[1])\n",
        "    sigma = np.zeros(X.shape[1])\n",
        "\n",
        "    mu = np.mean(X, axis = 0)\n",
        "    sigma = np.std(X, axis = 0)\n",
        "    X_norm = (X - mu) / sigma\n",
        "    \n",
        "    return X_norm, mu, sigma"
      ],
      "metadata": {
        "id": "F-_7msJL9gRC"
      },
      "execution_count": 70,
      "outputs": []
    },
    {
      "cell_type": "code",
      "source": [
        "X_norm, mu, sigma = featureNormalize(X)\n",
        "\n",
        "print(X)\n",
        "print('Media calculada:', mu)\n",
        "print('Desviación estandar calculada:', sigma)\n",
        "print(X_norm)"
      ],
      "metadata": {
        "colab": {
          "base_uri": "https://localhost:8080/"
        },
        "id": "HZp44bKj9xir",
        "outputId": "b32fd297-b740-460d-efab-cdd907e3ad47"
      },
      "execution_count": 71,
      "outputs": [
        {
          "output_type": "stream",
          "name": "stdout",
          "text": [
            "[[1.000e+00 1.330e+01 8.000e+00 1.280e+02 1.370e+00]\n",
            " [1.000e+00 1.330e+01 8.000e+00 1.280e+02 1.340e+00]\n",
            " [2.000e+00 1.560e+01 8.000e+00 2.560e+02 1.860e+00]\n",
            " [1.000e+00 1.540e+01 1.600e+01 5.120e+02 1.830e+00]\n",
            " [1.000e+00 1.330e+01 8.000e+00 2.560e+02 1.370e+00]\n",
            " [3.000e+00 1.560e+01 4.000e+00 5.000e+02 2.100e+00]\n",
            " [1.000e+00 1.540e+01 1.600e+01 2.560e+02 2.040e+00]\n",
            " [1.000e+00 1.330e+01 8.000e+00 2.560e+02 1.340e+00]\n",
            " [4.000e+00 1.400e+01 1.600e+01 5.120e+02 1.300e+00]\n",
            " [3.000e+00 1.400e+01 8.000e+00 2.560e+02 1.600e+00]\n",
            " [2.000e+00 1.560e+01 4.000e+00 5.000e+02 1.860e+00]\n",
            " [2.000e+00 1.560e+01 4.000e+00 5.000e+02 1.860e+00]\n",
            " [1.000e+00 1.540e+01 1.600e+01 2.560e+02 1.830e+00]\n",
            " [5.000e+00 1.560e+01 4.000e+00 2.560e+02 2.200e+00]\n",
            " [1.000e+00 1.330e+01 8.000e+00 2.560e+02 1.370e+00]\n",
            " [5.000e+00 1.560e+01 8.000e+00 2.560e+02 2.200e+00]\n",
            " [1.000e+00 1.540e+01 1.600e+01 5.120e+02 1.830e+00]\n",
            " [6.000e+00 1.560e+01 8.000e+00 1.000e+03 2.200e+00]\n",
            " [5.000e+00 1.330e+01 8.000e+00 1.280e+02 1.220e+00]\n",
            " [4.000e+00 1.160e+01 2.000e+00 3.200e+01 9.800e-01]\n",
            " [6.000e+00 1.560e+01 8.000e+00 1.128e+03 2.500e+00]\n",
            " [2.000e+00 1.560e+01 4.000e+00 5.000e+02 1.860e+00]\n",
            " [5.000e+00 1.330e+01 8.000e+00 2.560e+02 1.620e+00]\n",
            " [2.000e+00 1.560e+01 8.000e+00 2.560e+02 1.910e+00]\n",
            " [5.000e+00 1.560e+01 4.000e+00 1.000e+03 2.300e+00]\n",
            " [1.000e+00 1.330e+01 8.000e+00 1.280e+02 1.350e+00]\n",
            " [5.000e+00 1.560e+01 8.000e+00 2.560e+02 2.200e+00]\n",
            " [5.000e+00 1.560e+01 8.000e+00 5.120e+02 1.880e+00]\n",
            " [2.000e+00 1.730e+01 8.000e+00 1.000e+03 2.500e+00]\n",
            " [4.000e+00 1.400e+01 2.000e+00 3.200e+01 1.650e+00]\n",
            " [2.000e+00 1.730e+01 4.000e+00 5.000e+02 2.710e+00]\n",
            " [5.000e+00 1.330e+01 1.600e+01 5.120e+02 1.200e+00]\n",
            " [1.000e+00 1.330e+01 8.000e+00 2.560e+02 1.350e+00]\n",
            " [6.000e+00 1.400e+01 4.000e+00 6.400e+01 1.440e+00]\n",
            " [3.000e+00 1.560e+01 4.000e+00 1.000e+03 2.100e+00]\n",
            " [5.000e+00 1.730e+01 8.000e+00 1.128e+03 2.800e+00]\n",
            " [2.000e+00 1.560e+01 4.000e+00 1.000e+03 1.860e+00]\n",
            " [2.000e+00 1.560e+01 8.000e+00 2.560e+02 2.100e+00]\n",
            " [4.000e+00 1.560e+01 4.000e+00 1.000e+03 2.000e+00]\n",
            " [5.000e+00 1.560e+01 1.600e+01 1.256e+03 2.650e+00]\n",
            " [4.000e+00 1.560e+01 8.000e+00 1.000e+03 2.300e+00]\n",
            " [3.000e+00 1.560e+01 4.000e+00 2.560e+02 2.200e+00]\n",
            " [5.000e+00 1.730e+01 1.200e+01 1.000e+03 2.770e+00]\n",
            " [1.000e+00 1.330e+01 8.000e+00 2.560e+02 1.370e+00]\n",
            " [6.000e+00 1.560e+01 4.000e+00 1.280e+02 2.200e+00]\n",
            " [4.000e+00 1.730e+01 8.000e+00 1.256e+03 3.200e+00]\n",
            " [5.000e+00 1.560e+01 4.000e+00 2.560e+02 2.300e+00]\n",
            " [4.000e+00 1.730e+01 4.000e+00 1.000e+03 2.800e+00]]\n",
            "Media calculada: [  3.20833333  15.05208333   7.75       498.91666667   1.93375   ]\n",
            "Desviación estandar calculada: [  1.74353966   1.350307     4.01299971 368.40533798   0.50209405]\n",
            "[[-1.2665805  -1.29754444  0.06229754 -1.00681675 -1.12279761]\n",
            " [-1.2665805  -1.29754444  0.06229754 -1.00681675 -1.18254737]\n",
            " [-0.69303461  0.40577192  0.06229754 -0.65937336 -0.14688483]\n",
            " [-1.2665805   0.25765746  2.05581874  0.03551342 -0.20663459]\n",
            " [-1.2665805  -1.29754444  0.06229754 -0.65937336 -1.12279761]\n",
            " [-0.11948873  0.40577192 -0.93446306  0.0029406   0.33111326]\n",
            " [-1.2665805   0.25765746  2.05581874 -0.65937336  0.21161374]\n",
            " [-1.2665805  -1.29754444  0.06229754 -0.65937336 -1.18254737]\n",
            " [ 0.45405716 -0.7791438   2.05581874  0.03551342 -1.26221372]\n",
            " [-0.11948873 -0.7791438   0.06229754 -0.65937336 -0.6647161 ]\n",
            " [-0.69303461  0.40577192 -0.93446306  0.0029406  -0.14688483]\n",
            " [-0.69303461  0.40577192 -0.93446306  0.0029406  -0.14688483]\n",
            " [-1.2665805   0.25765746  2.05581874 -0.65937336 -0.20663459]\n",
            " [ 1.02760305  0.40577192 -0.93446306 -0.65937336  0.53027914]\n",
            " [-1.2665805  -1.29754444  0.06229754 -0.65937336 -1.12279761]\n",
            " [ 1.02760305  0.40577192  0.06229754 -0.65937336  0.53027914]\n",
            " [-1.2665805   0.25765746  2.05581874  0.03551342 -0.20663459]\n",
            " [ 1.60114893  0.40577192  0.06229754  1.36014135  0.53027914]\n",
            " [ 1.02760305 -1.29754444  0.06229754 -1.00681675 -1.42154641]\n",
            " [ 0.45405716 -2.5565174  -1.43284336 -1.2673993  -1.89954451]\n",
            " [ 1.60114893  0.40577192  0.06229754  1.70758474  1.12777675]\n",
            " [-0.69303461  0.40577192 -0.93446306  0.0029406  -0.14688483]\n",
            " [ 1.02760305 -1.29754444  0.06229754 -0.65937336 -0.62488292]\n",
            " [-0.69303461  0.40577192  0.06229754 -0.65937336 -0.04730189]\n",
            " [ 1.02760305  0.40577192 -0.93446306  1.36014135  0.72944501]\n",
            " [-1.2665805  -1.29754444  0.06229754 -1.00681675 -1.16263078]\n",
            " [ 1.02760305  0.40577192  0.06229754 -0.65937336  0.53027914]\n",
            " [ 1.02760305  0.40577192  0.06229754  0.03551342 -0.10705166]\n",
            " [-0.69303461  1.66474488  0.06229754  1.36014135  1.12777675]\n",
            " [ 0.45405716 -0.7791438  -1.43284336 -1.2673993  -0.56513316]\n",
            " [-0.69303461  1.66474488 -0.93446306  0.0029406   1.54602508]\n",
            " [ 1.02760305 -1.29754444  2.05581874  0.03551342 -1.46137959]\n",
            " [-1.2665805  -1.29754444  0.06229754 -0.65937336 -1.16263078]\n",
            " [ 1.60114893 -0.7791438  -0.93446306 -1.18053845 -0.9833815 ]\n",
            " [-0.11948873  0.40577192 -0.93446306  1.36014135  0.33111326]\n",
            " [ 1.02760305  1.66474488  0.06229754  1.70758474  1.72527437]\n",
            " [-0.69303461  0.40577192 -0.93446306  1.36014135 -0.14688483]\n",
            " [-0.69303461  0.40577192  0.06229754 -0.65937336  0.33111326]\n",
            " [ 0.45405716  0.40577192 -0.93446306  1.36014135  0.13194739]\n",
            " [ 1.02760305  0.40577192  2.05581874  2.05502813  1.42652556]\n",
            " [ 0.45405716  0.40577192  0.06229754  1.36014135  0.72944501]\n",
            " [-0.11948873  0.40577192 -0.93446306 -0.65937336  0.53027914]\n",
            " [ 1.02760305  1.66474488  1.05905814  1.36014135  1.66552461]\n",
            " [-1.2665805  -1.29754444  0.06229754 -0.65937336 -1.12279761]\n",
            " [ 1.60114893  0.40577192 -0.93446306 -1.00681675  0.53027914]\n",
            " [ 0.45405716  1.66474488  0.06229754  2.05502813  2.52193786]\n",
            " [ 1.02760305  0.40577192 -0.93446306 -0.65937336  0.72944501]\n",
            " [ 0.45405716  1.66474488 -0.93446306  1.36014135  1.72527437]]\n"
          ]
        }
      ]
    },
    {
      "cell_type": "code",
      "source": [
        "m, n = X.shape\n",
        "X_ready = np.concatenate([np.ones((m, 1)), X_norm], axis=1)"
      ],
      "metadata": {
        "id": "YBWyOkWoB2wo"
      },
      "execution_count": 72,
      "outputs": []
    },
    {
      "cell_type": "code",
      "source": [
        "def calcularCosto(X, y, theta):\n",
        "    m = y.size\n",
        "    J = 0\n",
        "    h = np.dot(X, theta)\n",
        "    # print(h)\n",
        "    J = (1/(2 * m)) * np.sum(np.square(np.dot(X, theta) - y))\n",
        "    return J\n",
        "   \n"
      ],
      "metadata": {
        "id": "LqksYC83D9wK"
      },
      "execution_count": 73,
      "outputs": []
    },
    {
      "cell_type": "code",
      "source": [
        "# theta=np.array([0.1, 1.0, 0.1, 0.1, 1.0, 0.1])\n",
        "# theta = np.random.rand(6)\n",
        "theta = np.zeros(6)\n",
        "JJ = calcularCosto(X_ready, y, theta)\n",
        "print(f\"con theta:{ theta } se obtiene un costo de: {JJ}\")"
      ],
      "metadata": {
        "colab": {
          "base_uri": "https://localhost:8080/"
        },
        "id": "mJjSKJ8MIQ8-",
        "outputId": "1dfe0526-5404-4fd4-b2b2-61ff54b83248"
      },
      "execution_count": 74,
      "outputs": [
        {
          "output_type": "stream",
          "name": "stdout",
          "text": [
            "con theta:[0. 0. 0. 0. 0. 0.] se obtiene un costo de: 650531.3115874999\n"
          ]
        }
      ]
    },
    {
      "cell_type": "code",
      "source": [
        "def calcularDescensoGradiente(X, y, theta, alpha, numero_iteraciones):\n",
        "      m = y.shape[0]\n",
        "      theta = theta.copy()\n",
        "      J_historico = []\n",
        "\n",
        "      for i in range(numero_iteraciones):\n",
        "        theta = theta - (alpha / m) * (np.dot(X, theta) - y).dot(X)\n",
        "        J_historico.append(calcularCosto(X, y, theta))\n",
        "      return theta, J_historico\n"
      ],
      "metadata": {
        "id": "b2_kUj7GEP1o"
      },
      "execution_count": 75,
      "outputs": []
    },
    {
      "cell_type": "code",
      "source": [
        "theta = np.zeros(6)\n",
        "\n",
        "num_ite = 100000\n",
        "alpha = 0.001\n",
        "\n",
        "theta, J_historico = calcularDescensoGradiente(X_ready, y, theta, alpha, num_ite)\n",
        "print(f\"los valores de theta calculados son: { theta }\")\n",
        "print(f\"con un costo de: { J_historico[-1]} \")"
      ],
      "metadata": {
        "colab": {
          "base_uri": "https://localhost:8080/"
        },
        "id": "-hO_K-dDEbC4",
        "outputId": "b95d72fa-e97c-469e-d72a-a61cff117b84"
      },
      "execution_count": 76,
      "outputs": [
        {
          "output_type": "stream",
          "name": "stdout",
          "text": [
            "los valores de theta calculados son: [ 949.70583333 -164.3127857  -140.90115727  530.36088044  -43.22719368\n",
            "  154.59279955]\n",
            "con un costo de: 34529.532330364054 \n"
          ]
        }
      ]
    },
    {
      "cell_type": "code",
      "source": [
        "y_pred = np.dot([1, 3, 15.6, 8, 256, 2.2], theta)\n",
        "print(y_pred)"
      ],
      "metadata": {
        "colab": {
          "base_uri": "https://localhost:8080/"
        },
        "id": "u5hAWYe3Es2B",
        "outputId": "9a1df0e2-8fcd-495d-d5a8-a91535adb2c5"
      },
      "execution_count": 77,
      "outputs": [
        {
          "output_type": "stream",
          "name": "stdout",
          "text": [
            "-8224.460956265724\n"
          ]
        }
      ]
    },
    {
      "cell_type": "code",
      "source": [
        "def CalcularthetaEcuacionNormal(X, y):\n",
        "    theta = np.zeros(X.shape[1])\n",
        "    theta = np.dot(np.dot(np.linalg.inv(np.dot(X.T,X)),X.T),y)\n",
        "    return theta"
      ],
      "metadata": {
        "id": "PFoqVgPfFtm5"
      },
      "execution_count": 78,
      "outputs": []
    },
    {
      "cell_type": "code",
      "source": [
        "X_ren = np.concatenate([np.ones((m, 1)), X], axis=1)\n"
      ],
      "metadata": {
        "id": "n8LqEeRHIEgY"
      },
      "execution_count": 79,
      "outputs": []
    },
    {
      "cell_type": "code",
      "source": [
        "theta = CalcularthetaEcuacionNormal(X_ren, y);\n",
        "print(f\"los valores de theta calculados son: { theta }\")"
      ],
      "metadata": {
        "colab": {
          "base_uri": "https://localhost:8080/"
        },
        "id": "DK52pfKRIHxX",
        "outputId": "42811433-cdd9-42da-e725-faa092d42cc2"
      },
      "execution_count": 80,
      "outputs": [
        {
          "output_type": "stream",
          "name": "stdout",
          "text": [
            "los valores de theta calculados son: [ 1.26410455e+03 -9.42737875e+01 -1.04603178e+02  1.32162475e+02\n",
            " -1.17423519e-01  3.08666655e+02]\n"
          ]
        }
      ]
    },
    {
      "cell_type": "code",
      "source": [
        "X_array = [1, 3, 15.6, 8, 256, 2.2]\n",
        "price = np.dot(X_array, theta)\n",
        "\n",
        "print('Precio de un laptop: {:.0f}'.format(price))"
      ],
      "metadata": {
        "colab": {
          "base_uri": "https://localhost:8080/"
        },
        "id": "NU-255MKILdG",
        "outputId": "6e869fa3-ddc2-481c-ee66-f0432de3c644"
      },
      "execution_count": 83,
      "outputs": [
        {
          "output_type": "stream",
          "name": "stdout",
          "text": [
            "Precio de un laptop: 1056\n"
          ]
        }
      ]
    }
  ]
}